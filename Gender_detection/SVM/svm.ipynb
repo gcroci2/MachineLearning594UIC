{
 "nbformat": 4,
 "nbformat_minor": 2,
 "metadata": {
  "language_info": {
   "name": "python",
   "codemirror_mode": {
    "name": "ipython",
    "version": 2
   }
  },
  "orig_nbformat": 2,
  "file_extension": ".py",
  "mimetype": "text/x-python",
  "name": "python",
  "npconvert_exporter": "python",
  "pygments_lexer": "ipython2",
  "version": 2
 },
 "cells": [
  {
   "cell_type": "code",
   "execution_count": 5,
   "metadata": {},
   "outputs": [],
   "source": [
    "from sklearn import svm\n",
    "from numpy import array, dot, mean, std, empty, argsort ,size ,shape ,transpose\n",
    "from numpy.linalg import eigh, solve\n",
    "from numpy.random import randn\n",
    "from matplotlib.pyplot import subplots, show\n",
    "from matplotlib import pyplot as plt\n",
    "from PIL import Image as Img\n",
    "import numpy as np\n",
    "import os, sys\n",
    "import glob\n",
    "from sklearn.decomposition import PCA\n",
    "from skimage import exposure\n",
    "from sklearn.model_selection import cross_validate\n",
    "from sklearn.model_selection import train_test_split\n",
    "from sklearn.metrics import confusion_matrix,classification_report,accuracy_score\n",
    ""
   ]
  },
  {
   "cell_type": "code",
   "execution_count": 6,
   "metadata": {},
   "outputs": [
    {
     "name": "stderr",
     "output_type": "stream",
     "text": "/usr/local/lib/python2.7/site-packages/numpy/lib/histograms.py:778: RuntimeWarning: Converting input from bool to <type 'numpy.uint8'> for compatibility.\n  a, weights = _ravel_and_check_weights(a, weights)\n"
    }
   ],
   "source": [
    "dirname='gender_test'\n",
    "\n",
    "count=0\n",
    "size=128,128\n",
    "\n",
    "included_extensions = ['jpg']\n",
    "\n",
    "for filename in os.listdir(dirname):\n",
    "\tif any(filename.endswith(ext) for ext in \n",
    "\t\t\tincluded_extensions):\n",
    "\t\tcount=count+1\n",
    "\t\timage_file=Img.open(os.path.join('gender_test', filename))\n",
    "\t\tsize=image_file.size\n",
    "\n",
    "total=count\n",
    "\n",
    "data=np.zeros((total,size[0]*size[1]))\n",
    "count=0\n",
    "label=[]\n",
    "j=0\n",
    "\n",
    "for filename in os.listdir(dirname):\n",
    "\tif any(filename.endswith(ext) for ext in \n",
    "\t\t\tincluded_extensions):\n",
    "\t\tlabel.append(filename[0])\n",
    "\t\timage_file=Img.open(os.path.join('gender_test', filename))\t\n",
    "\t\ttemp = array(exposure.equalize_hist(array(image_file.convert('1')))) \n",
    "\t\t#equalize histogram\n",
    "\t\tA = np.asarray(temp).reshape(-1)\n",
    "\t\tdata[count,:]=A\t\n",
    "\t\tcount=count+1\t\n",
    "traindata,testdata,trainglabel,testlabel=train_test_split(data,label,test_size=0.2,random_state=30)\t\t"
   ]
  },
  {
   "cell_type": "code",
   "execution_count": 7,
   "metadata": {},
   "outputs": [
    {
     "name": "stdout",
     "output_type": "stream",
     "text": "CONFUSION MATRIX:\n[[13  3]\n [ 5 21]]\n\nACCURACY:\n0.8095238095238095\n\nREPORT:\n              precision    recall  f1-score   support\n\n           f       0.72      0.81      0.76        16\n           m       0.88      0.81      0.84        26\n\n   micro avg       0.81      0.81      0.81        42\n   macro avg       0.80      0.81      0.80        42\nweighted avg       0.82      0.81      0.81        42\n\n"
    }
   ],
   "source": [
    "clf = svm.SVC(kernel='linear', C=1.0, gamma=0.10000000000000001)\n",
    "trainlabels=np.array(trainglabel[:])\n",
    "testlabels=np.array(testlabel[:])\n",
    "clf.fit(traindata,trainlabels)\n",
    "\n",
    "res=clf.predict(testdata)\n",
    "\n",
    "cm_linear=confusion_matrix(testlabels,res)\n",
    "accuracy_linear=accuracy_score(testlabels,res)\n",
    "report_linear=classification_report(testlabels,res)\n",
    "print(\"CONFUSION MATRIX:\")\n",
    "print(cm_linear)\n",
    "print(\"\\nACCURACY:\")\n",
    "print(accuracy_linear)\n",
    "print(\"\\nREPORT:\")\n",
    "print(report_linear)"
   ]
  }
 ]
}